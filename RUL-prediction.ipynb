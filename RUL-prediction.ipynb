{
 "cells": [
  {
   "cell_type": "markdown",
   "id": "b4147c2b",
   "metadata": {},
   "source": [
    "# Prediction of Remaining Useful Life (RUL)\n",
    "To predict the RUL of the various units of the CMAPSS data, we will create an LSTM to define the RUL. As we focus on the RUL of synthetic data compared to CMAPSS, we use the approach of [related work](https://github.com/biswajitsahoo1111/rul_codes_open/blob/master/notebooks/cmapss_notebooks/CMAPSS_FD001_LSTM_piecewise_linear_degradation_model.ipynb) to construct our LSTM."
   ]
  },
  {
   "cell_type": "code",
   "execution_count": 1,
   "id": "d5ac876f",
   "metadata": {},
   "outputs": [],
   "source": [
    "# import various modules\n",
    "import pandas as pd\n",
    "import numpy as np\n",
    "import os\n",
    "\n",
    "import tensorflow as tf\n",
    "from tensorflow.keras import layers\n",
    "from tensorflow.keras.models import Sequential\n",
    "\n",
    "import sklearn\n",
    "from sklearn.model_selection import train_test_split\n",
    "\n",
    "from sklearn.preprocessing import StandardScaler\n",
    "from sklearn.metrics import mean_squared_error\n",
    "\n",
    "import matplotlib.pyplot as plt"
   ]
  },
  {
   "cell_type": "code",
   "execution_count": null,
   "id": "b1fc6915",
   "metadata": {},
   "outputs": [],
   "source": []
  }
 ],
 "metadata": {
  "kernelspec": {
   "display_name": "Python 3 (ipykernel)",
   "language": "python",
   "name": "python3"
  },
  "language_info": {
   "codemirror_mode": {
    "name": "ipython",
    "version": 3
   },
   "file_extension": ".py",
   "mimetype": "text/x-python",
   "name": "python",
   "nbconvert_exporter": "python",
   "pygments_lexer": "ipython3",
   "version": "3.9.5"
  }
 },
 "nbformat": 4,
 "nbformat_minor": 5
}
